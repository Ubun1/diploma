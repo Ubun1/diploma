{
 "cells": [
  {
   "cell_type": "code",
   "execution_count": 2,
   "metadata": {},
   "outputs": [],
   "source": [
    "import numpy as np\n",
    "import matplotlib.pyplot as plt\n",
    "import matplotlib\n",
    "from matplotlib.colors import LinearSegmentedColormap"
   ]
  },
  {
   "cell_type": "code",
   "execution_count": 22,
   "metadata": {},
   "outputs": [
    {
     "data": {
      "image/png": "[encoded data removed]",
      "text/plain": [
       "<Figure size 432x288 with 1 Axes>"
      ]
     },
     "metadata": {},
     "output_type": "display_data"
    }
   ],
   "source": [
    "def plot_gradient_hack( p0, p1, npts=20, cmap=None, **kw):\n",
    "    \"\"\"\n",
    "    Draw a gradient between p0 and p1 using a colormap\n",
    "    The **kw dictionary gets passed to plt.plot, so things like linestyle,\n",
    "    linewidth, labels, etc can be modified directly.\n",
    "    \"\"\"\n",
    "    x_1, y_1 = p0\n",
    "    x_2, y_2 = p1\n",
    "    \n",
    "    X = np.linspace(x_1, x_2, npts)\n",
    "    Xs = X[:-1]\n",
    "    Xf = X[1:]\n",
    "    Xpairs = zip(Xs, Xf)\n",
    "    \n",
    "    Y = np.linspace(y_1, y_2, npts)\n",
    "    Ys = Y[:-1]\n",
    "    Yf = Y[1:]\n",
    "    Ypairs = zip(Ys, Yf)\n",
    "\n",
    "    C = np.linspace(0,1, npts)\n",
    "    cmap = plt.get_cmap(cmap)\n",
    "    # the simplest way of doing this is to just do the following:\n",
    "    for x, y, c in zip(Xpairs, Ypairs, C):\n",
    "        plt.plot(x, y, '-', c=cmap(c), **kw)\n",
    "\n",
    "    # But for cases when that  will be too slow, you can make this go faster,\n",
    "    # follow along with this example:\n",
    "    # http://matplotlib.org/examples/pylab_examples/line_collection2.html\n",
    "\n",
    "\n",
    "def plot_gradient_rbg_pairs(p0, p1, rgb0, rgb1, **kw):\n",
    "    \"\"\"Form the gradient from RGB values at each point\n",
    "    The **kw dictionary gets passed to plt.plot, so things like linestyle,\n",
    "    linewidth, labels, etc can be modified directly.\n",
    "    \"\"\"\n",
    "    cmap = LinearSegmentedColormap.from_list('tmp', (rgb0, rgb1))\n",
    "    plot_gradient_hack(p0, p1, cmap=cmap, **kw)\n",
    "\n",
    "# plot gradient that just spans the full colormap\n",
    "#plot_gradient_hack( (1,2), (5,6) )\n",
    "\n",
    "# we can specify the colormap, and set some properties for the plot\n",
    "#plot_gradient_hack( (2,5), (5,3), cmap='bwr', linewidth=3.)\n",
    "\n",
    "# We also have a simple wrapper to specify the two rgb points to interpolate\n",
    "# the gradient between\n",
    "#plot_gradient_rbg_pairs( (1.1,2), (5.1,6), (0,0,0), (1,1,1) ) # black to white\n",
    "#plot_gradient_rbg_pairs( (1.2,2), (5.2,6), (0,0,0), (0,0,1),  # black to blue\n",
    "#                         linestyle='--', linewidth=9) \n",
    "\n",
    "#0 - (1,0,0)\n",
    "#30- (0,0,1)\n",
    "\n",
    "plot_gradient_rbg_pairs( (0,2), (5.3,6), (1,1,1), (0,0,1),  # red to green\n",
    "                         linewidth=4 )\n",
    "\n",
    "plt.show()"
   ]
  },
  {
   "cell_type": "code",
   "execution_count": null,
   "metadata": {},
   "outputs": [],
   "source": []
  },
  {
   "cell_type": "code",
   "execution_count": 23,
   "metadata": {},
   "outputs": [
    {
     "data": {
      "image/png": "[encoded data removed]",
      "text/plain": [
       "<Figure size 432x288 with 1 Axes>"
      ]
     },
     "metadata": {},
     "output_type": "display_data"
    }
   ],
   "source": [
    "import matplotlib.pyplot as plt\n",
    "import numpy as np\n",
    "import matplotlib.collections as mcoll\n",
    "import matplotlib.path as mpath\n",
    "\n",
    "def colorline(\n",
    "    x, y, z=None, cmap=plt.get_cmap('copper'), norm=plt.Normalize(0.0, 1.0),\n",
    "        linewidth=3, alpha=1.0):\n",
    "    \"\"\"\n",
    "    http://nbviewer.ipython.org/github/dpsanders/matplotlib-examples/blob/master/colorline.ipynb\n",
    "    http://matplotlib.org/examples/pylab_examples/multicolored_line.html\n",
    "    Plot a colored line with coordinates x and y\n",
    "    Optionally specify colors in the array z\n",
    "    Optionally specify a colormap, a norm function and a line width\n",
    "    \"\"\"\n",
    "\n",
    "    # Default colors equally spaced on [0,1]:\n",
    "    if z is None:\n",
    "        z = np.linspace(0.0, 1.0, len(x))\n",
    "\n",
    "    # Special case if a single number:\n",
    "    if not hasattr(z, \"__iter__\"):  # to check for numerical input -- this is a hack\n",
    "        z = np.array([z])\n",
    "\n",
    "    z = np.asarray(z)\n",
    "\n",
    "    segments = make_segments(x, y)\n",
    "    lc = mcoll.LineCollection(segments, array=z, cmap=cmap, norm=norm,\n",
    "                              linewidth=linewidth, alpha=alpha)\n",
    "\n",
    "    ax = plt.gca()\n",
    "    ax.add_collection(lc)\n",
    "\n",
    "    return lc\n",
    "\n",
    "\n",
    "def make_segments(x, y):\n",
    "    \"\"\"\n",
    "    Create list of line segments from x and y coordinates, in the correct format\n",
    "    for LineCollection: an array of the form numlines x (points per line) x 2 (x\n",
    "    and y) array\n",
    "    \"\"\"\n",
    "\n",
    "    points = np.array([x, y]).T.reshape(-1, 1, 2)\n",
    "    segments = np.concatenate([points[:-1], points[1:]], axis=1)\n",
    "    return segments\n",
    "\n",
    "N = 10\n",
    "np.random.seed(101)\n",
    "x = np.random.rand(N)\n",
    "y = np.random.rand(N)\n",
    "fig, ax = plt.subplots()\n",
    "\n",
    "path = mpath.Path(np.column_stack([x, y]))\n",
    "verts = path.interpolated(steps=3).vertices\n",
    "x, y = verts[:, 0], verts[:, 1]\n",
    "z = np.linspace(0, 1, len(x))\n",
    "colorline(x, y, z, cmap=plt.get_cmap('jet'), linewidth=2)\n",
    "\n",
    "plt.show()"
   ]
  },
  {
   "cell_type": "code",
   "execution_count": null,
   "metadata": {},
   "outputs": [],
   "source": []
  }
 ],
 "metadata": {
  "kernelspec": {
   "display_name": "Python 3",
   "language": "python",
   "name": "python3"
  },
  "language_info": {
   "codemirror_mode": {
    "name": "ipython",
    "version": 3
   },
   "file_extension": ".py",
   "mimetype": "text/x-python",
   "name": "python",
   "nbconvert_exporter": "python",
   "pygments_lexer": "ipython3",
   "version": "3.6.4"
  }
 },
 "nbformat": 4,
 "nbformat_minor": 2
}
