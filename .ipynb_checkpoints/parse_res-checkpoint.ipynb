{
 "cells": [
  {
   "cell_type": "code",
   "execution_count": 2,
   "metadata": {},
   "outputs": [],
   "source": [
    "import pandas as pd"
   ]
  },
  {
   "cell_type": "code",
   "execution_count": 35,
   "metadata": {},
   "outputs": [],
   "source": [
    "res = []\n",
    "scip_lines = 5\n",
    "with open('./res_dir/res_160_0_1_v5_5_6.txt') as f:\n",
    "    i = 0\n",
    "    mnum = ''\n",
    "    for line in f:\n",
    "        if i < 5:\n",
    "            i+=1\n",
    "            continue\n",
    "        if line.startswith('~'):\n",
    "            continue\n",
    "        if len(line.split('\\t')) == 1:\n",
    "            mnum = line.split('\\t')[0].replace('\\n', '')\n",
    "            continue\n",
    "        res.append(mnum + '\\t' + line)"
   ]
  },
  {
   "cell_type": "code",
   "execution_count": 36,
   "metadata": {},
   "outputs": [],
   "source": [
    "thefile = open('nres_160_0_1_v5_5_6.tsv', 'w')"
   ]
  },
  {
   "cell_type": "code",
   "execution_count": 37,
   "metadata": {},
   "outputs": [],
   "source": [
    "for item in res:\n",
    "  thefile.write(f'{item}')"
   ]
  },
  {
   "cell_type": "code",
   "execution_count": null,
   "metadata": {},
   "outputs": [],
   "source": []
  }
 ],
 "metadata": {
  "kernelspec": {
   "display_name": "Python 3",
   "language": "python",
   "name": "python3"
  },
  "language_info": {
   "codemirror_mode": {
    "name": "ipython",
    "version": 3
   },
   "file_extension": ".py",
   "mimetype": "text/x-python",
   "name": "python",
   "nbconvert_exporter": "python",
   "pygments_lexer": "ipython3",
   "version": "3.6.4"
  }
 },
 "nbformat": 4,
 "nbformat_minor": 2
}
