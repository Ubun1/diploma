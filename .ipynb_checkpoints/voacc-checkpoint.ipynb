{
 "cells": [
  {
   "cell_type": "code",
   "execution_count": 1,
   "metadata": {},
   "outputs": [],
   "source": [
    "C_map=[(1,1,0.75),                  #  0\n",
    "        (0.50588,0.99608,0.78824), #   1     \n",
    "        (1,0.80196,0.2),#              2\n",
    "        (1,0.4, 0),                #     3\n",
    "        (1,0.4, 0),         #             4\n",
    "        (0.75294, 0.75294, 0.75294), #    5\n",
    "        (0.50196, 0.50196, 0.50196),  #   6   \n",
    "        (0, 0.50196, 0),              #   7\n",
    "        (0, 0.84314, 0),              #   8    \n",
    "        (0, 0, 0.71765),              #   9\n",
    "        (0.486, 0.388, 0.898),        #  10\n",
    "        (0.8, 0.85, 0.99216),         #   11 \n",
    "        (0.3, 0.7, 1),                #   12\n",
    "        (0.25, 0.25, 1),              #   13\n",
    "        (0.522, 0.263, 0.969),        #   14 %        0.5 0.2 0.2;...         14\n",
    "        (0.8, 0.6, 0),                #   15\n",
    "        (1, 0.8, 0.8),                #   16\n",
    "        (0.99, 0.4, 0.4),             #   17        \n",
    "        (0.6705882, 0.9, 0.5),        #   18\n",
    "        (1, 1, 1),                    #       19 -               \n",
    "        (0.6, 0.6, 0.6),              #   \t20 -\n",
    "        (0, 0, 0),                    #       21 -\n",
    "        (0, 0, 0),                    #       22 -\n",
    "        (1, 1, 0.31765),              #   23\n",
    "        (1, 0.90196, 0.18824),        #   24\n",
    "        (0.6, 0.6, 0.2),               #  25\n",
    "        (0.4, 0.4, 0),                  # 26\n",
    "        (0.9, 0.012, 0.78),            #  27\n",
    "        (1, 0.43922, 0.99608),         #  28\n",
    "        (1, 1, 1),                     #      29 -\n",
    "        (1, 0, 0),                     #  30\n",
    "        (1, 0, 0),                     #      31 -\n",
    "        (0.55, 0, 0.8),                #  32\n",
    "        (0, 0, 0),                     #     33 -\n",
    "        (0.831, 0.69, 0.98),            #  34\n",
    "        (0.988, 0.776, 0.357),    #     \t35 -\n",
    "        (0, 0.298, 0.267),          #     36\n",
    "        (0, 0.298, 0.659),           #    37\n",
    "        (0, 0.812, 0.453)]          #   38\n",
    "    \n"
   ]
  },
  {
   "cell_type": "code",
   "execution_count": 2,
   "metadata": {},
   "outputs": [],
   "source": [
    "import numpy as np"
   ]
  },
  {
   "cell_type": "code",
   "execution_count": 3,
   "metadata": {},
   "outputs": [
    {
     "data": {
      "text/plain": [
       "(76263,)"
      ]
     },
     "execution_count": 3,
     "metadata": {},
     "output_type": "execute_result"
    }
   ],
   "source": [
    "\n",
    "fp = open(\"./voacc150.txt\")\n",
    "for i, line in enumerate(fp):\n",
    "    if i == 1: \n",
    "        splitted = line.split(' ')\n",
    "        nx, ny = list(filter(lambda c: c!='' and c !='\\n', splitted))\n",
    "    if i == 2:\n",
    "        data = np.array(list(map(lambda d: int(d), filter(lambda c: c!='' and c !='\\n', line.split(' ')))))\n",
    "fp.close()\n",
    "data.shape"
   ]
  },
  {
   "cell_type": "code",
   "execution_count": 4,
   "metadata": {},
   "outputs": [],
   "source": [
    "from matplotlib import pyplot as plt"
   ]
  },
  {
   "cell_type": "code",
   "execution_count": 95,
   "metadata": {},
   "outputs": [],
   "source": [
    "def parse_voacc(Data_vec):\n",
    "    color_grid = np.zeros(shape=(401,4001))\n",
    "    num       = 0;\n",
    "    ind_vec1 = ind_vec2 = 0\n",
    "    ind       = 0;\n",
    "    while num<len(Data_vec):\n",
    "        value = Data_vec[num]\n",
    "        if value==-2:\n",
    "            #Compressed: the next ?? indices are given the color material\n",
    "            num_colors  =   Data_vec[num+1]\n",
    "            material    =   Data_vec[num+2]\n",
    "            ind_vec1 = ind;\n",
    "            ind_vec2 = ind + num_colors - 1;\n",
    "            ind         =   ind + num_colors\n",
    "            num         =   num + 3\n",
    "        else:\n",
    "            if value==-1:\n",
    "                material    =   0\n",
    "            else:\n",
    "                material    =   value\n",
    "            ind_vec2 = ind\n",
    "            ind_vec1 = ind\n",
    "            ind = ind + 1\n",
    "            num = num + 1\n",
    "        for n in range(ind_vec1, ind_vec2+1):\n",
    "            jj = int(n / 401)\n",
    "            ii = int(n % 401)\n",
    "            color_grid[ii][jj] = material\n",
    "    return color_grid"
   ]
  },
  {
   "cell_type": "code",
   "execution_count": 96,
   "metadata": {},
   "outputs": [],
   "source": [
    "res = parse_voacc(data)"
   ]
  },
  {
   "cell_type": "code",
   "execution_count": 97,
   "metadata": {},
   "outputs": [
    {
     "data": {
      "text/plain": [
       "0"
      ]
     },
     "execution_count": 97,
     "metadata": {},
     "output_type": "execute_result"
    }
   ],
   "source": [
    "pd.isnull(res).sum()"
   ]
  },
  {
   "cell_type": "code",
   "execution_count": 98,
   "metadata": {},
   "outputs": [],
   "source": [
    "from matplotlib import colors"
   ]
  },
  {
   "cell_type": "code",
   "execution_count": 99,
   "metadata": {},
   "outputs": [
    {
     "data": {
      "image/png": "[encoded data removed]",
      "text/plain": [
       "<Figure size 1440x720 with 1 Axes>"
      ]
     },
     "metadata": {},
     "output_type": "display_data"
    }
   ],
   "source": [
    "cmap = colors.ListedColormap(C_map)\n",
    "plt.figure(figsize=(20,10))\n",
    "bounds=list(range(0,39))\n",
    "norm = colors.BoundaryNorm(bounds, cmap.N)\n",
    "plt.imshow(res, norm=norm, cmap=cmap)\n",
    "plt.xlim(2450,2650)\n",
    "plt.ylim(0,200)\n",
    "plt.gca().invert_yaxis()"
   ]
  },
  {
   "cell_type": "raw",
   "metadata": {},
   "source": []
  },
  {
   "cell_type": "code",
   "execution_count": null,
   "metadata": {},
   "outputs": [],
   "source": []
  }
 ],
 "metadata": {
  "kernelspec": {
   "display_name": "Python 3",
   "language": "python",
   "name": "python3"
  },
  "language_info": {
   "codemirror_mode": {
    "name": "ipython",
    "version": 3
   },
   "file_extension": ".py",
   "mimetype": "text/x-python",
   "name": "python",
   "nbconvert_exporter": "python",
   "pygments_lexer": "ipython3",
   "version": "3.6.4"
  }
 },
 "nbformat": 4,
 "nbformat_minor": 2
}
