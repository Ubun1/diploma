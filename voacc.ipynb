{
 "cells": [
  {
   "cell_type": "code",
   "execution_count": 1,
   "metadata": {},
   "outputs": [],
   "source": [
    "import matplotlib.pyplot as plt\n",
    "from matplotlib import colors, patches"
   ]
  },
  {
   "cell_type": "code",
   "execution_count": 2,
   "metadata": {},
   "outputs": [],
   "source": [
    "C_map=[(1,1,0.75),                  #  0\n",
    "        (0.50588,0.99608,0.78824), #   1     \n",
    "        (1,0.80196,0.2),#              2\n",
    "        (1,0.4, 0),                #     3\n",
    "        (1,0.4, 0),         #             4\n",
    "        (0.75294, 0.75294, 0.75294), #    5\n",
    "        (0.50196, 0.50196, 0.50196),  #   6   \n",
    "        (0, 0.50196, 0),              #   7\n",
    "        (0, 0.84314, 0),              #   8    \n",
    "        (0, 0, 0.71765),              #   9\n",
    "        (0.486, 0.388, 0.898),        #  10\n",
    "        (0.8, 0.85, 0.99216),         #   11 \n",
    "        (0.3, 0.7, 1),                #   12\n",
    "        (0.25, 0.25, 1),              #   13\n",
    "        (0.522, 0.263, 0.969),        #   14 %        0.5 0.2 0.2;...         14\n",
    "        (0.8, 0.6, 0),                #   15\n",
    "        (1, 0.8, 0.8),                #   16\n",
    "        (0.99, 0.4, 0.4),             #   17        \n",
    "        (0.6705882, 0.9, 0.5),        #   18\n",
    "        (1, 1, 1),                    #       19 -               \n",
    "        (0.6, 0.6, 0.6),              #   \t20 -\n",
    "        (0, 0, 0),                    #       21 -\n",
    "        (0, 0, 0),                    #       22 -\n",
    "        (1, 1, 0.31765),              #   23\n",
    "        (1, 0.90196, 0.18824),        #   24\n",
    "        (0.6, 0.6, 0.2),               #  25\n",
    "        (0.4, 0.4, 0),                  # 26\n",
    "        (0.9, 0.012, 0.78),            #  27\n",
    "        (1, 0.43922, 0.99608),         #  28\n",
    "        (1, 1, 1),                     #      29 -\n",
    "        (1, 0, 0),                     #  30\n",
    "        (1, 0, 0),                     #      31 -\n",
    "        (0.55, 0, 0.8),                #  32\n",
    "        (0, 0, 0),                     #     33 -\n",
    "        (0.831, 0.69, 0.98),            #  34\n",
    "        (0.988, 0.776, 0.357),    #     \t35 -\n",
    "        (0, 0.298, 0.267),          #     36\n",
    "        (0, 0.298, 0.659),           #    37\n",
    "        (0, 0.812, 0.453)]          #   38\n",
    "    \n"
   ]
  },
  {
   "cell_type": "code",
   "execution_count": 3,
   "metadata": {},
   "outputs": [],
   "source": [
    "import numpy as np\n",
    "from mpl_toolkits.mplot3d import Axes3D as axes3d\n",
    "from os import listdir, walk"
   ]
  },
  {
   "cell_type": "code",
   "execution_count": 4,
   "metadata": {},
   "outputs": [
    {
     "data": {
      "text/plain": [
       "('../120_tc/',\n",
       " [],\n",
       " ['voacc250.txt',\n",
       "  'voacc260.txt',\n",
       "  'voacc270.txt',\n",
       "  'voacc280.txt',\n",
       "  'voacc290.txt',\n",
       "  'voacc300.txt',\n",
       "  'voacc310.txt',\n",
       "  'voacc320.txt',\n",
       "  'voacc330.txt',\n",
       "  'download_v.sh',\n",
       "  'voacc230.txt',\n",
       "  'voacc240.txt',\n",
       "  'voacc340.txt'])"
      ]
     },
     "execution_count": 4,
     "metadata": {},
     "output_type": "execute_result"
    }
   ],
   "source": [
    "files = list(walk('../120_tc/'))\n",
    "files[0]"
   ]
  },
  {
   "cell_type": "code",
   "execution_count": 5,
   "metadata": {},
   "outputs": [],
   "source": [
    "def read_voacc(fld):\n",
    "    data = []\n",
    "    time = []\n",
    "    folder, _ ,files = list(walk(fld))[0]\n",
    "    files = np.array(files)\n",
    "    files = [f for f in files if \"voac\" in f]\n",
    "    print(files)\n",
    "    for file in files:\n",
    "        fp = open(folder + file)\n",
    "        for i, line in enumerate(fp):\n",
    "            if i == 0: \n",
    "                time.append(round(float(list(filter(lambda c: c!='' and c !='\\n', line.split(' ')))[0][:4])*10, 3))\n",
    "            if i == 1: \n",
    "                splitted = line.split(' ')\n",
    "                nx, ny = list(filter(lambda c: c!='' and c !='\\n', splitted))\n",
    "            if i == 2:\n",
    "                voacc = np.array(list(map(lambda d: int(d), filter(lambda c: c!='' and c !='\\n', line.split(' ')))))\n",
    "                data.append(voacc)\n",
    "        fp.close()\n",
    "    data = np.array(data)\n",
    "    return (time, data)"
   ]
  },
  {
   "cell_type": "code",
   "execution_count": 12,
   "metadata": {},
   "outputs": [
    {
     "name": "stdout",
     "output_type": "stream",
     "text": [
      "['voacc220.txt', 'voacc230.txt', 'voacc240.txt', 'voacc250.txt', 'voacc260.txt', 'voacc270.txt', 'voacc280.txt', 'voacc290.txt', 'voacc300.txt', 'voacc310.txt', 'voacc180.txt', 'voacc190.txt', 'voacc200.txt', 'voacc210.txt']\n"
     ]
    }
   ],
   "source": [
    "time, data = read_voacc('../100_tc/')"
   ]
  },
  {
   "cell_type": "code",
   "execution_count": 7,
   "metadata": {},
   "outputs": [
    {
     "data": {
      "text/plain": [
       "[14.5,\n",
       " 15.3,\n",
       " 15.9,\n",
       " 16.7,\n",
       " 17.5,\n",
       " 18.3,\n",
       " 19.3,\n",
       " 20.3,\n",
       " 21.3,\n",
       " 22.3,\n",
       " 23.3,\n",
       " 24.3,\n",
       " 25.3,\n",
       " 26.3,\n",
       " 27.3,\n",
       " 28.3]"
      ]
     },
     "execution_count": 7,
     "metadata": {},
     "output_type": "execute_result"
    }
   ],
   "source": [
    "time"
   ]
  },
  {
   "cell_type": "code",
   "execution_count": 8,
   "metadata": {},
   "outputs": [],
   "source": [
    "def parse_voacc(Data_vec):\n",
    "    color_grid = np.zeros(shape=(401,4001))\n",
    "    num       = 0;\n",
    "    ind_vec1 = ind_vec2 = 0\n",
    "    ind       = 0;\n",
    "    while num<len(Data_vec):\n",
    "        value = Data_vec[num]\n",
    "        if value==-2:\n",
    "            #Compressed: the next ?? indices are given the color material\n",
    "            num_colors  =   Data_vec[num+1]\n",
    "            material    =   Data_vec[num+2]\n",
    "            ind_vec1 = ind;\n",
    "            ind_vec2 = ind + num_colors - 1;\n",
    "            ind         =   ind + num_colors\n",
    "            num         =   num + 3\n",
    "        else:\n",
    "            if value==-1:\n",
    "                material    =   0\n",
    "            else:\n",
    "                material    =   value\n",
    "            ind_vec2 = ind\n",
    "            ind_vec1 = ind\n",
    "            ind = ind + 1\n",
    "            num = num + 1\n",
    "        for n in range(ind_vec1, ind_vec2+1):\n",
    "            jj = int(n / 401)\n",
    "            ii = int(n % 401)\n",
    "            color_grid[ii][jj] = material\n",
    "    return color_grid"
   ]
  },
  {
   "cell_type": "code",
   "execution_count": null,
   "metadata": {},
   "outputs": [],
   "source": [
    "#res = parse_voacc(data)\n",
    "res = list(map(parse_voacc,data[:12]))"
   ]
  },
  {
   "cell_type": "code",
   "execution_count": null,
   "metadata": {},
   "outputs": [],
   "source": [
    "def draw_voacc(data, titles, xlabel, ylabel, zoom, color_map, nrows=2, ncols=2):\n",
    "    plt.close('all')\n",
    "    cmap = colors.ListedColormap(color_map)\n",
    "    #plt.figure(figsize=(20,10))\n",
    "    bounds=list(range(0,39))\n",
    "    norm = colors.BoundaryNorm(bounds, cmap.N)\n",
    "\n",
    "    xlim = zoom['xlim']\n",
    "    ylim = zoom['ylim']\n",
    "\n",
    "    fig, ax = plt.subplots(nrows=nrows, ncols=ncols, sharex='col', sharey='row', figsize = (20,20))\n",
    "    p_num = 0\n",
    "    #fig.set_size_inches(11.69,8.27)\n",
    "    for i, row in enumerate(ax):\n",
    "        for j, col in enumerate(row):\n",
    "            col.imshow(data[p_num], norm=norm, cmap=cmap, aspect=4)\n",
    "#             circle = patches.Circle((2500, 25), radius = 10)\n",
    "# #             circle2 = patches.Circle((2500, 25),radius = 2, color = 'r')\n",
    "#             col.add_patch(circle)\n",
    "#             col.add_patch(circle2)\n",
    "            col.set_xlim(xlim)\n",
    "            col.set_ylim(ylim)\n",
    "            col.set_title(f'{titles[p_num]} ma')\n",
    "            col.invert_yaxis()\n",
    "            p_num = p_num + 1\n",
    "            #col.plot(x, y)\n",
    "    #fig.subplots_adjust(hspace=1, wspace=0.2, top=1.2, right = 1.5, left  = 0.1)\n",
    "    fig.tight_layout()\n",
    "    fig.suptitle('test title')\n",
    "    \n",
    "    #fig.legend(lines, labels, loc = (0.5, 0), ncol=5 )\n",
    "    #fig.savefig(\"foo.emf\", papertype = 'a4', orientation = 'portrait', format = 'emf')"
   ]
  },
  {
   "cell_type": "code",
   "execution_count": null,
   "metadata": {},
   "outputs": [],
   "source": [
    "draw_voacc(res, time, 'width', 'depth', {'xlim': (2450, 2650), 'ylim': (0, 50)}, C_map, ncols = 3, nrows = 4)\n"
   ]
  },
  {
   "cell_type": "markdown",
   "metadata": {},
   "source": [
    "##### circle = patches.Circle((2500, 50), radius = 10)\n",
    "circle2 = patches.Circle((2500, 50),radius = 2, color = 'r')\n",
    "ax.add_patch(circle)\n",
    "ax.add_patch(circle2)"
   ]
  },
  {
   "cell_type": "code",
   "execution_count": null,
   "metadata": {},
   "outputs": [],
   "source": []
  }
 ],
 "metadata": {
  "kernelspec": {
   "display_name": "Python 3",
   "language": "python",
   "name": "python3"
  },
  "language_info": {
   "codemirror_mode": {
    "name": "ipython",
    "version": 3
   },
   "file_extension": ".py",
   "mimetype": "text/x-python",
   "name": "python",
   "nbconvert_exporter": "python",
   "pygments_lexer": "ipython3",
   "version": "3.6.4"
  }
 },
 "nbformat": 4,
 "nbformat_minor": 2
}
